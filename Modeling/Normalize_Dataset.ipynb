{
 "cells": [
  {
   "cell_type": "markdown",
   "metadata": {},
   "source": [
    "# Normalize Dataset"
   ]
  },
  {
   "cell_type": "markdown",
   "metadata": {},
   "source": [
    "If Dataset of paths generated is not normalized, you can normalize it using this script. Normalizing the data before using it to train the diffusion model reduces train time. Normalizing live in the data loader slows down training."
   ]
  },
  {
   "cell_type": "code",
   "execution_count": 13,
   "metadata": {},
   "outputs": [],
   "source": [
    "import os\n",
    "import pandas as pd\n",
    "import numpy as np\n",
    "import json\n",
    "import matplotlib.pyplot as plt"
   ]
  },
  {
   "cell_type": "code",
   "execution_count": 3,
   "metadata": {},
   "outputs": [
    {
     "name": "stdout",
     "output_type": "stream",
     "text": [
      "[Errno 2] No such file or directory: 'Diffusion_Planning'\n",
      "/home/jason/Desktop/Jason/Diffusion/Diffusion_Planning/Modeling\n"
     ]
    }
   ],
   "source": [
    "%cd Diffusion_Planning"
   ]
  },
  {
   "cell_type": "code",
   "execution_count": 11,
   "metadata": {},
   "outputs": [
    {
     "name": "stdout",
     "output_type": "stream",
     "text": [
      "Captures     Modeling\t   README.md\t     Results\n",
      "Checkpoints  PathPlanning  requirements.txt\n"
     ]
    }
   ],
   "source": [
    "!ls"
   ]
  },
  {
   "cell_type": "code",
   "execution_count": 12,
   "metadata": {},
   "outputs": [],
   "source": [
    "def normalize_and_save(csv_file, map_dir, output_csv, single_map=False):\n",
    "    \"\"\"\n",
    "    Normalize path coordinates and save to a new CSV file, retaining all other columns.\n",
    "    Args:\n",
    "    - csv_file (str): Path to the input CSV file.\n",
    "    - map_dir (str): Directory containing the map files.\n",
    "    - output_csv (str): Path to the output CSV file.\n",
    "    \"\"\"\n",
    "    # Load the dataset\n",
    "    path_data = pd.read_csv(csv_file)\n",
    "    pair_ids = path_data['pair_id'].unique()\n",
    "\n",
    "    normalized_rows = []\n",
    "\n",
    "    for pair_id in pair_ids:\n",
    "\n",
    "        # If paths are using all the same map\n",
    "        if single_map:\n",
    "            pair_id = 1\n",
    "            \n",
    "        # Load map data\n",
    "        map_path = os.path.join(map_dir, f'map_{pair_id}.json')\n",
    "        with open(map_path, 'r') as f:\n",
    "            map_data = json.load(f)\n",
    "\n",
    "        # Determine map dimensions\n",
    "        map_height = len(map_data)\n",
    "        map_width = len(map_data[0]) if map_height > 0 else 0\n",
    "        center_x, center_y = map_width // 2, map_height // 2\n",
    "\n",
    "        # Get all rows for the current pair_id\n",
    "        pair_data = path_data[path_data['pair_id'] == pair_id]\n",
    "\n",
    "        # Normalize paths\n",
    "        for _, row in pair_data.iterrows():\n",
    "            x_norm = (row['x'] - center_x) / (map_width / 2)\n",
    "            y_norm = (row['y'] - center_y) / (map_height / 2)\n",
    "\n",
    "            # Append normalized row\n",
    "            normalized_rows.append({\n",
    "                \"pair_id\": row['pair_id'],\n",
    "                \"algo\": row['algo'],\n",
    "                \"x\": x_norm,\n",
    "                \"y\": y_norm,\n",
    "                \"planning_time\": row['planning_time']  # Preserve planning_time\n",
    "            })\n",
    "\n",
    "    # Save to a new CSV\n",
    "    normalized_df = pd.DataFrame(normalized_rows)\n",
    "    normalized_df.to_csv(output_csv, index=False)\n",
    "\n",
    "dataset = 4\n",
    "\n",
    "# Usage\n",
    "normalize_and_save(\n",
    "    csv_file=f\"PathPlanning/dataset_{dataset}/path_data/path_data.csv\",\n",
    "    map_dir=f\"PathPlanning/dataset_{dataset}/map_data\",\n",
    "    output_csv=f\"PathPlanning/dataset_{dataset}/path_data/normalized_path_data.csv\", \n",
    "    single_map=True, # if you have a single map instead of a different map for each path.\n",
    ")"
   ]
  },
  {
   "cell_type": "markdown",
   "metadata": {},
   "source": [
    "Now you should see a `normalized_path_data.csv` that you can use when training your Diffusion model"
   ]
  }
 ],
 "metadata": {
  "kernelspec": {
   "display_name": "diffusion_env",
   "language": "python",
   "name": "python3"
  },
  "language_info": {
   "codemirror_mode": {
    "name": "ipython",
    "version": 3
   },
   "file_extension": ".py",
   "mimetype": "text/x-python",
   "name": "python",
   "nbconvert_exporter": "python",
   "pygments_lexer": "ipython3",
   "version": "3.10.14"
  }
 },
 "nbformat": 4,
 "nbformat_minor": 2
}
